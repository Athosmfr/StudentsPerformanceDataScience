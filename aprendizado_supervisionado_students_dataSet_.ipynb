{
  "nbformat": 4,
  "nbformat_minor": 0,
  "metadata": {
    "colab": {
      "provenance": [],
      "toc_visible": true,
      "collapsed_sections": [
        "Yx4I6dWwpxII"
      ]
    },
    "kernelspec": {
      "name": "python3",
      "display_name": "Python 3"
    },
    "language_info": {
      "name": "python"
    }
  },
  "cells": [
    {
      "cell_type": "markdown",
      "source": [
        "#Introdução"
      ],
      "metadata": {
        "id": "Exusu2wGSYQX"
      }
    },
    {
      "cell_type": "markdown",
      "source": [
        "O objetivo do projeto de aprendizado de máquina supervisionado será predizer a etnia dos estudantes, que são classificadas entre 5 grupos.\n",
        "\n",
        "Todas as variáveis categóricas ordinais e nominais foram transformadas em numéricas no arquivo de limpeza.\n",
        "\n",
        "As variáveis serão escalonadas para apoiar o treinamento e realização de testes, o objetivo final é gerar para cada algoritmo de predição não supervisionada, uma taxa de acurácia de teste de aproximadamente 85%."
      ],
      "metadata": {
        "id": "P4O8Xl7truDS"
      }
    },
    {
      "cell_type": "code",
      "execution_count": null,
      "metadata": {
        "id": "S_qEEWZ2tu5G"
      },
      "outputs": [],
      "source": [
        "import numpy as np\n",
        "import pandas as pd"
      ]
    },
    {
      "cell_type": "code",
      "source": [
        "from google.colab import drive\n",
        "drive.mount('/content/drive')"
      ],
      "metadata": {
        "colab": {
          "base_uri": "https://localhost:8080/"
        },
        "id": "0D0kgpLht95g",
        "outputId": "f63dd922-925c-4b79-c629-b0ab97341d0c"
      },
      "execution_count": null,
      "outputs": [
        {
          "output_type": "stream",
          "name": "stdout",
          "text": [
            "Drive already mounted at /content/drive; to attempt to forcibly remount, call drive.mount(\"/content/drive\", force_remount=True).\n"
          ]
        }
      ]
    },
    {
      "cell_type": "code",
      "source": [
        "df = pd.read_csv('/content/drive/MyDrive/studentsperformance-limpo.csv')\n",
        "df.head(5)"
      ],
      "metadata": {
        "colab": {
          "base_uri": "https://localhost:8080/",
          "height": 270
        },
        "id": "F6rtBCU5uBiO",
        "outputId": "82c772fe-6bfc-4e32-df67-589db3cfe2a9"
      },
      "execution_count": null,
      "outputs": [
        {
          "output_type": "execute_result",
          "data": {
            "text/plain": [
              "   genero  etnia  nivel_de_escolaridade_dos_pais  almoco  curso_preparatorio  \\\n",
              "0       0      1                               4       0                   0   \n",
              "1       0      2                               0       0                   1   \n",
              "2       0      1                               5       0                   0   \n",
              "3       1      0                               1       1                   0   \n",
              "4       1      2                               0       0                   0   \n",
              "\n",
              "   pontuacao_em_matematica  pontuacao_em_leitura  pontuacao_em_escrita  \\\n",
              "0                       72                    72                    74   \n",
              "1                       69                    90                    88   \n",
              "2                       90                    95                    93   \n",
              "3                       47                    57                    44   \n",
              "4                       76                    78                    75   \n",
              "\n",
              "   pontuacao_total  \n",
              "0               72  \n",
              "1               82  \n",
              "2               92  \n",
              "3               49  \n",
              "4               76  "
            ],
            "text/html": [
              "\n",
              "  <div id=\"df-fca66a27-6804-44f5-a11b-13ac35ab43d3\">\n",
              "    <div class=\"colab-df-container\">\n",
              "      <div>\n",
              "<style scoped>\n",
              "    .dataframe tbody tr th:only-of-type {\n",
              "        vertical-align: middle;\n",
              "    }\n",
              "\n",
              "    .dataframe tbody tr th {\n",
              "        vertical-align: top;\n",
              "    }\n",
              "\n",
              "    .dataframe thead th {\n",
              "        text-align: right;\n",
              "    }\n",
              "</style>\n",
              "<table border=\"1\" class=\"dataframe\">\n",
              "  <thead>\n",
              "    <tr style=\"text-align: right;\">\n",
              "      <th></th>\n",
              "      <th>genero</th>\n",
              "      <th>etnia</th>\n",
              "      <th>nivel_de_escolaridade_dos_pais</th>\n",
              "      <th>almoco</th>\n",
              "      <th>curso_preparatorio</th>\n",
              "      <th>pontuacao_em_matematica</th>\n",
              "      <th>pontuacao_em_leitura</th>\n",
              "      <th>pontuacao_em_escrita</th>\n",
              "      <th>pontuacao_total</th>\n",
              "    </tr>\n",
              "  </thead>\n",
              "  <tbody>\n",
              "    <tr>\n",
              "      <th>0</th>\n",
              "      <td>0</td>\n",
              "      <td>1</td>\n",
              "      <td>4</td>\n",
              "      <td>0</td>\n",
              "      <td>0</td>\n",
              "      <td>72</td>\n",
              "      <td>72</td>\n",
              "      <td>74</td>\n",
              "      <td>72</td>\n",
              "    </tr>\n",
              "    <tr>\n",
              "      <th>1</th>\n",
              "      <td>0</td>\n",
              "      <td>2</td>\n",
              "      <td>0</td>\n",
              "      <td>0</td>\n",
              "      <td>1</td>\n",
              "      <td>69</td>\n",
              "      <td>90</td>\n",
              "      <td>88</td>\n",
              "      <td>82</td>\n",
              "    </tr>\n",
              "    <tr>\n",
              "      <th>2</th>\n",
              "      <td>0</td>\n",
              "      <td>1</td>\n",
              "      <td>5</td>\n",
              "      <td>0</td>\n",
              "      <td>0</td>\n",
              "      <td>90</td>\n",
              "      <td>95</td>\n",
              "      <td>93</td>\n",
              "      <td>92</td>\n",
              "    </tr>\n",
              "    <tr>\n",
              "      <th>3</th>\n",
              "      <td>1</td>\n",
              "      <td>0</td>\n",
              "      <td>1</td>\n",
              "      <td>1</td>\n",
              "      <td>0</td>\n",
              "      <td>47</td>\n",
              "      <td>57</td>\n",
              "      <td>44</td>\n",
              "      <td>49</td>\n",
              "    </tr>\n",
              "    <tr>\n",
              "      <th>4</th>\n",
              "      <td>1</td>\n",
              "      <td>2</td>\n",
              "      <td>0</td>\n",
              "      <td>0</td>\n",
              "      <td>0</td>\n",
              "      <td>76</td>\n",
              "      <td>78</td>\n",
              "      <td>75</td>\n",
              "      <td>76</td>\n",
              "    </tr>\n",
              "  </tbody>\n",
              "</table>\n",
              "</div>\n",
              "      <button class=\"colab-df-convert\" onclick=\"convertToInteractive('df-fca66a27-6804-44f5-a11b-13ac35ab43d3')\"\n",
              "              title=\"Convert this dataframe to an interactive table.\"\n",
              "              style=\"display:none;\">\n",
              "        \n",
              "  <svg xmlns=\"http://www.w3.org/2000/svg\" height=\"24px\"viewBox=\"0 0 24 24\"\n",
              "       width=\"24px\">\n",
              "    <path d=\"M0 0h24v24H0V0z\" fill=\"none\"/>\n",
              "    <path d=\"M18.56 5.44l.94 2.06.94-2.06 2.06-.94-2.06-.94-.94-2.06-.94 2.06-2.06.94zm-11 1L8.5 8.5l.94-2.06 2.06-.94-2.06-.94L8.5 2.5l-.94 2.06-2.06.94zm10 10l.94 2.06.94-2.06 2.06-.94-2.06-.94-.94-2.06-.94 2.06-2.06.94z\"/><path d=\"M17.41 7.96l-1.37-1.37c-.4-.4-.92-.59-1.43-.59-.52 0-1.04.2-1.43.59L10.3 9.45l-7.72 7.72c-.78.78-.78 2.05 0 2.83L4 21.41c.39.39.9.59 1.41.59.51 0 1.02-.2 1.41-.59l7.78-7.78 2.81-2.81c.8-.78.8-2.07 0-2.86zM5.41 20L4 18.59l7.72-7.72 1.47 1.35L5.41 20z\"/>\n",
              "  </svg>\n",
              "      </button>\n",
              "      \n",
              "  <style>\n",
              "    .colab-df-container {\n",
              "      display:flex;\n",
              "      flex-wrap:wrap;\n",
              "      gap: 12px;\n",
              "    }\n",
              "\n",
              "    .colab-df-convert {\n",
              "      background-color: #E8F0FE;\n",
              "      border: none;\n",
              "      border-radius: 50%;\n",
              "      cursor: pointer;\n",
              "      display: none;\n",
              "      fill: #1967D2;\n",
              "      height: 32px;\n",
              "      padding: 0 0 0 0;\n",
              "      width: 32px;\n",
              "    }\n",
              "\n",
              "    .colab-df-convert:hover {\n",
              "      background-color: #E2EBFA;\n",
              "      box-shadow: 0px 1px 2px rgba(60, 64, 67, 0.3), 0px 1px 3px 1px rgba(60, 64, 67, 0.15);\n",
              "      fill: #174EA6;\n",
              "    }\n",
              "\n",
              "    [theme=dark] .colab-df-convert {\n",
              "      background-color: #3B4455;\n",
              "      fill: #D2E3FC;\n",
              "    }\n",
              "\n",
              "    [theme=dark] .colab-df-convert:hover {\n",
              "      background-color: #434B5C;\n",
              "      box-shadow: 0px 1px 3px 1px rgba(0, 0, 0, 0.15);\n",
              "      filter: drop-shadow(0px 1px 2px rgba(0, 0, 0, 0.3));\n",
              "      fill: #FFFFFF;\n",
              "    }\n",
              "  </style>\n",
              "\n",
              "      <script>\n",
              "        const buttonEl =\n",
              "          document.querySelector('#df-fca66a27-6804-44f5-a11b-13ac35ab43d3 button.colab-df-convert');\n",
              "        buttonEl.style.display =\n",
              "          google.colab.kernel.accessAllowed ? 'block' : 'none';\n",
              "\n",
              "        async function convertToInteractive(key) {\n",
              "          const element = document.querySelector('#df-fca66a27-6804-44f5-a11b-13ac35ab43d3');\n",
              "          const dataTable =\n",
              "            await google.colab.kernel.invokeFunction('convertToInteractive',\n",
              "                                                     [key], {});\n",
              "          if (!dataTable) return;\n",
              "\n",
              "          const docLinkHtml = 'Like what you see? Visit the ' +\n",
              "            '<a target=\"_blank\" href=https://colab.research.google.com/notebooks/data_table.ipynb>data table notebook</a>'\n",
              "            + ' to learn more about interactive tables.';\n",
              "          element.innerHTML = '';\n",
              "          dataTable['output_type'] = 'display_data';\n",
              "          await google.colab.output.renderOutput(dataTable, element);\n",
              "          const docLink = document.createElement('div');\n",
              "          docLink.innerHTML = docLinkHtml;\n",
              "          element.appendChild(docLink);\n",
              "        }\n",
              "      </script>\n",
              "    </div>\n",
              "  </div>\n",
              "  "
            ]
          },
          "metadata": {},
          "execution_count": 969
        }
      ]
    },
    {
      "cell_type": "markdown",
      "source": [
        "## **Obs:** Os dados desse DataFrame já foram tratados e ja foi feito o Pré-Processamento para a realização dos métodos de pesquisa para Machine Learning."
      ],
      "metadata": {
        "id": "b_vNvFpu1VwY"
      }
    },
    {
      "cell_type": "markdown",
      "source": [
        "## **LEGENDA**"
      ],
      "metadata": {
        "id": "t6u6gJ63u_w8"
      }
    },
    {
      "cell_type": "markdown",
      "source": [
        "   **- Gender (Genero) :** F (Feminino) = 0, M (Masculino) = 1\n",
        "\n",
        "   **- Race/Ethnicity (Raça/Etnia) :**\n",
        "\n",
        "   Group A - White (Branco) = 0 \n",
        "   Group B - Black or African American (Negro ou Afro-Americano) = 1\n",
        "   Group C - Asian (Asiático) = 2\n",
        "   Group D - Native American/Alaska Native (Nativo Americano/Nativo do Alasca)\n",
        "   = 3\n",
        "   Group E - Native Hawaiian/Pacific Islander (Nativo Havaiano/ Nativo das Ilhas\n",
        "   do Pacífico) = 4\n",
        "\n",
        "   **- Parental Level of Education ( Nível de Escolaridade dos Pais) :** \n",
        "\n",
        "   Some College (Faculdade Incompleta) = 0\n",
        "   Associate's Degree (Associado) = 1\n",
        "   High School (Ensino Médio) = 2\n",
        "   Some High School (Ensino Médio Incompleto) = 3\n",
        "   Bachelor's Degree (Bacharél) = 4\n",
        "   Master's Degree (Mestre) = 5\n",
        "\n",
        "  **- Lunch (Almoço) :**\n",
        "\n",
        "  Standard (Comum) = 0\n",
        "  Free/Reduced (Grátis/Reduzido) = 1\n",
        "\n",
        "  **- Test Preparation Course (Curso Preparatório para Testes) :**\n",
        "\n",
        "  None (Nenhum) = 0\n",
        "  Completed (Completado) = 1\n",
        "\n",
        "  **- Math Score (Pontuação em Matemática)**\n",
        "\n",
        "  **- Reading Score (Pontuação em Leitura)**\n",
        "\n",
        "  **- Writing Score (Pontuação em Escrita)**\n",
        "\n",
        "  **- Overall Score (Pontuação Total)**\n",
        "\n",
        "---\n",
        "\n",
        "\n",
        "\n"
      ],
      "metadata": {
        "id": "uFrNUUGivDyp"
      }
    },
    {
      "cell_type": "code",
      "source": [
        "df.info()"
      ],
      "metadata": {
        "colab": {
          "base_uri": "https://localhost:8080/"
        },
        "id": "kJZIJSkmSHd3",
        "outputId": "742477c9-643a-46e1-83cb-352fefdafd6c"
      },
      "execution_count": null,
      "outputs": [
        {
          "output_type": "stream",
          "name": "stdout",
          "text": [
            "<class 'pandas.core.frame.DataFrame'>\n",
            "RangeIndex: 1000 entries, 0 to 999\n",
            "Data columns (total 9 columns):\n",
            " #   Column                          Non-Null Count  Dtype\n",
            "---  ------                          --------------  -----\n",
            " 0   genero                          1000 non-null   int64\n",
            " 1   etnia                           1000 non-null   int64\n",
            " 2   nivel_de_escolaridade_dos_pais  1000 non-null   int64\n",
            " 3   almoco                          1000 non-null   int64\n",
            " 4   curso_preparatorio              1000 non-null   int64\n",
            " 5   pontuacao_em_matematica         1000 non-null   int64\n",
            " 6   pontuacao_em_leitura            1000 non-null   int64\n",
            " 7   pontuacao_em_escrita            1000 non-null   int64\n",
            " 8   pontuacao_total                 1000 non-null   int64\n",
            "dtypes: int64(9)\n",
            "memory usage: 70.4 KB\n"
          ]
        }
      ]
    },
    {
      "cell_type": "markdown",
      "source": [
        "## Normalização ou padronização"
      ],
      "metadata": {
        "id": "762Fw5RuVtv3"
      }
    },
    {
      "cell_type": "markdown",
      "source": [
        "Como o dataset possuí 1000 registros (e menos de 5000) é identificado como ideal o teste de Shapiro-Wilk para testar a normalidade dos dados:"
      ],
      "metadata": {
        "id": "383bPh49V-bT"
      }
    },
    {
      "cell_type": "markdown",
      "source": [
        "A distribuição será considerada normal caso p-valor for superior a 5%"
      ],
      "metadata": {
        "id": "n06yaAuumw91"
      }
    },
    {
      "cell_type": "code",
      "source": [
        "import scipy.stats as stats"
      ],
      "metadata": {
        "id": "uQ0DfN9JV7A7"
      },
      "execution_count": null,
      "outputs": []
    },
    {
      "cell_type": "code",
      "source": [
        "#Normalidade das notas de matemática\n",
        "w, p = stats.shapiro(df.pontuacao_em_matematica)\n",
        "print(\"normalidade da pontuação em matematica\")\n",
        "print(\"valor de estátistica de Shapiro: %.2f%% \" % (w * 100))\n",
        "print(\"p-valor de Shapiro: %.4f%%\" % (p * 100))"
      ],
      "metadata": {
        "colab": {
          "base_uri": "https://localhost:8080/"
        },
        "id": "AL3o9xPQWt0y",
        "outputId": "891075bd-772a-4898-c8d1-d8ade81751b3"
      },
      "execution_count": null,
      "outputs": [
        {
          "output_type": "stream",
          "name": "stdout",
          "text": [
            "normalidade da pontuação em matematica\n",
            "valor de estátistica de Shapiro: 99.32% \n",
            "p-valor de Shapiro: 0.0145%\n"
          ]
        }
      ]
    },
    {
      "cell_type": "code",
      "source": [
        "#Normalidade das notas de leitura\n",
        "w, p = stats.shapiro(df.pontuacao_em_leitura)\n",
        "print(\"normalidade da pontuação em leitura\")\n",
        "print(\"valor de estátistica de Shapiro: %.2f%% \" % (w * 100))\n",
        "print(\"p-valor de Shapiro: %.4f%%\" % (p * 100))"
      ],
      "metadata": {
        "id": "2mWNZeSmgj15",
        "colab": {
          "base_uri": "https://localhost:8080/"
        },
        "outputId": "a33c34cb-5c35-4c00-ebb0-ff8ab9f2439c"
      },
      "execution_count": null,
      "outputs": [
        {
          "output_type": "stream",
          "name": "stdout",
          "text": [
            "normalidade da pontuação em leitura\n",
            "valor de estátistica de Shapiro: 99.29% \n",
            "p-valor de Shapiro: 0.0106%\n"
          ]
        }
      ]
    },
    {
      "cell_type": "code",
      "source": [
        "#Normalidade das notas de leitura\n",
        "w, p = stats.shapiro(df.pontuacao_em_escrita)\n",
        "print(\"normalidade da pontuação em escrita\")\n",
        "print(\"valor de estátistica de Shapiro: %.2f%% \" % (w * 100))\n",
        "print(\"p-valor de Shapiro: %.4f%%\" % (p * 100))"
      ],
      "metadata": {
        "id": "PY2Z1jd6gw0K",
        "colab": {
          "base_uri": "https://localhost:8080/"
        },
        "outputId": "35ba4c2f-4637-424b-8afe-ecf6adb75ef9"
      },
      "execution_count": null,
      "outputs": [
        {
          "output_type": "stream",
          "name": "stdout",
          "text": [
            "normalidade da pontuação em escrita\n",
            "valor de estátistica de Shapiro: 99.20% \n",
            "p-valor de Shapiro: 0.0029%\n"
          ]
        }
      ]
    },
    {
      "cell_type": "code",
      "source": [
        "#Normalidade das notas (total)\n",
        "w, p = stats.shapiro(df.pontuacao_total)\n",
        "print(\"normalidade da média das notas\")\n",
        "print(\"valor de estátistica de Shapiro: %.2f%% \" % (w * 100))\n",
        "print(\"p-valor de Shapiro: %.4f%%\" % (p * 100))"
      ],
      "metadata": {
        "colab": {
          "base_uri": "https://localhost:8080/"
        },
        "id": "gNM7vCJVgxfp",
        "outputId": "3950f4d0-d249-44b8-c039-0e5f0ff30131"
      },
      "execution_count": null,
      "outputs": [
        {
          "output_type": "stream",
          "name": "stdout",
          "text": [
            "normalidade da média das notas\n",
            "valor de estátistica de Shapiro: 99.28% \n",
            "p-valor de Shapiro: 0.0090%\n"
          ]
        }
      ]
    },
    {
      "cell_type": "markdown",
      "source": [
        "As distribuições são todas não-normais (p-valor < 5%), por isso será utilizada padronização"
      ],
      "metadata": {
        "id": "TVoZabw3mubJ"
      }
    },
    {
      "cell_type": "markdown",
      "source": [
        "## Previsores e teste\n",
        "\n"
      ],
      "metadata": {
        "id": "Yx4I6dWwpxII"
      }
    },
    {
      "cell_type": "code",
      "source": [
        "previsores = df.iloc[:, 0:8].values"
      ],
      "metadata": {
        "id": "MUHt4IpZpExP"
      },
      "execution_count": null,
      "outputs": []
    },
    {
      "cell_type": "code",
      "source": [
        "previsores"
      ],
      "metadata": {
        "colab": {
          "base_uri": "https://localhost:8080/"
        },
        "id": "IKtXKlkVTWz_",
        "outputId": "6aa5479b-af8a-4397-8b1c-a605de259cdb"
      },
      "execution_count": null,
      "outputs": [
        {
          "output_type": "execute_result",
          "data": {
            "text/plain": [
              "array([[ 0,  1,  4, ..., 72, 72, 74],\n",
              "       [ 0,  2,  0, ..., 69, 90, 88],\n",
              "       [ 0,  1,  5, ..., 90, 95, 93],\n",
              "       ...,\n",
              "       [ 0,  2,  2, ..., 59, 71, 65],\n",
              "       [ 0,  3,  0, ..., 68, 78, 77],\n",
              "       [ 0,  3,  0, ..., 77, 86, 86]])"
            ]
          },
          "metadata": {},
          "execution_count": 977
        }
      ]
    },
    {
      "cell_type": "code",
      "source": [
        "previsores.shape"
      ],
      "metadata": {
        "colab": {
          "base_uri": "https://localhost:8080/"
        },
        "id": "DeBxfvJ1pHtw",
        "outputId": "de5def86-e60f-40f2-99bd-ba88eb284882"
      },
      "execution_count": null,
      "outputs": [
        {
          "output_type": "execute_result",
          "data": {
            "text/plain": [
              "(1000, 8)"
            ]
          },
          "metadata": {},
          "execution_count": 978
        }
      ]
    },
    {
      "cell_type": "markdown",
      "source": [
        "Originalmente utilizamos a coluna de dados de Sexo dos estudantes para predição porém por conta dos dados serem muito semelhantes causou a imprecisão na acurácia. Utilizamos então a coluna de etnias como parâmetro para predição."
      ],
      "metadata": {
        "id": "N6XLngJT12Fq"
      }
    },
    {
      "cell_type": "code",
      "source": [
        "#O teste será realizado para predizer o a etnia (índice 1)\n",
        "target = df.iloc[:, 1].values"
      ],
      "metadata": {
        "id": "8uu5I_ScpLSp"
      },
      "execution_count": null,
      "outputs": []
    },
    {
      "cell_type": "markdown",
      "source": [],
      "metadata": {
        "id": "XbwQLxmS14Dy"
      }
    },
    {
      "cell_type": "code",
      "source": [
        "target"
      ],
      "metadata": {
        "colab": {
          "base_uri": "https://localhost:8080/"
        },
        "id": "L0Jqun_fpNSQ",
        "outputId": "506f773c-143b-484e-bc3e-52486ffa76c6"
      },
      "execution_count": null,
      "outputs": [
        {
          "output_type": "execute_result",
          "data": {
            "text/plain": [
              "array([1, 2, 1, 0, 2, 1, 1, 1, 3, 1, 2, 3, 1, 0, 0, 2, 2, 1, 2, 2, 3, 1,\n",
              "       3, 2, 3, 0, 1, 2, 2, 3, 3, 1, 4, 3, 4, 4, 3, 3, 3, 1, 2, 2, 1, 1,\n",
              "       4, 1, 0, 2, 3, 2, 4, 4, 2, 3, 2, 2, 4, 3, 3, 2, 4, 0, 0, 2, 3, 1,\n",
              "       3, 2, 1, 2, 3, 3, 0, 2, 2, 1, 4, 0, 3, 4, 1, 1, 0, 4, 3, 2, 2, 3,\n",
              "       0, 3, 2, 2, 2, 2, 1, 2, 1, 4, 3, 3, 1, 3, 3, 1, 2, 2, 3, 4, 1, 1,\n",
              "       3, 2, 0, 3, 4, 2, 1, 3, 3, 2, 2, 1, 2, 3, 4, 1, 1, 3, 3, 0, 3, 2,\n",
              "       4, 2, 3, 2, 1, 4, 2, 3, 3, 2, 4, 0, 3, 2, 1, 2, 3, 4, 0, 0, 1, 3,\n",
              "       3, 2, 4, 1, 1, 3, 1, 4, 1, 2, 4, 2, 2, 1, 1, 2, 0, 4, 3, 2, 2, 2,\n",
              "       1, 2, 1, 3, 2, 2, 4, 3, 2, 2, 4, 3, 1, 2, 4, 3, 1, 3, 2, 3, 2, 4,\n",
              "       1, 1, 2, 3, 2, 1, 2, 3, 4, 4, 1, 1, 3, 2, 2, 2, 4, 1, 4, 2, 1, 1,\n",
              "       3, 1, 2, 3, 1, 4, 2, 3, 0, 2, 3, 2, 1, 4, 2, 3, 3, 3, 1, 2, 3, 4,\n",
              "       3, 4, 3, 2, 4, 1, 1, 2, 0, 3, 1, 3, 3, 4, 2, 2, 1, 2, 2, 2, 2, 4,\n",
              "       3, 3, 2, 3, 3, 4, 2, 2, 3, 3, 1, 2, 2, 4, 2, 1, 3, 3, 3, 3, 1, 1,\n",
              "       4, 1, 1, 4, 2, 3, 2, 4, 3, 1, 0, 4, 2, 3, 0, 3, 2, 1, 2, 0, 4, 2,\n",
              "       1, 3, 1, 1, 3, 2, 2, 2, 3, 2, 1, 3, 2, 4, 2, 2, 2, 2, 2, 0, 2, 1,\n",
              "       2, 2, 4, 1, 2, 1, 3, 2, 1, 3, 2, 2, 1, 3, 3, 2, 1, 2, 3, 4, 1, 4,\n",
              "       2, 2, 2, 1, 0, 2, 3, 3, 1, 1, 2, 3, 2, 0, 2, 2, 0, 3, 4, 2, 3, 3,\n",
              "       3, 4, 3, 3, 0, 0, 1, 2, 2, 4, 0, 4, 4, 2, 3, 3, 4, 3, 4, 2, 2, 0,\n",
              "       1, 2, 1, 3, 2, 0, 0, 3, 2, 2, 1, 1, 3, 3, 3, 4, 3, 1, 2, 4, 2, 2,\n",
              "       3, 4, 2, 3, 3, 0, 1, 2, 2, 2, 0, 2, 2, 2, 2, 0, 2, 2, 3, 3, 2, 3,\n",
              "       2, 3, 0, 1, 0, 2, 3, 2, 1, 1, 2, 4, 2, 2, 2, 2, 3, 3, 4, 1, 2, 1,\n",
              "       4, 2, 0, 2, 3, 0, 0, 2, 2, 2, 2, 3, 1, 3, 4, 3, 3, 4, 1, 3, 2, 0,\n",
              "       1, 2, 3, 2, 1, 0, 0, 2, 2, 2, 1, 3, 2, 3, 1, 4, 3, 1, 2, 4, 3, 1,\n",
              "       0, 1, 2, 2, 3, 0, 3, 1, 1, 2, 3, 4, 3, 1, 3, 2, 3, 2, 2, 4, 2, 2,\n",
              "       3, 2, 2, 2, 4, 4, 1, 2, 2, 3, 4, 0, 2, 3, 2, 3, 3, 4, 0, 2, 2, 2,\n",
              "       2, 1, 1, 3, 4, 2, 2, 2, 1, 3, 3, 2, 2, 3, 1, 1, 4, 3, 1, 3, 1, 0,\n",
              "       2, 2, 4, 0, 0, 1, 1, 3, 3, 4, 3, 3, 3, 2, 0, 2, 2, 0, 2, 0, 4, 4,\n",
              "       2, 2, 1, 0, 3, 3, 3, 2, 4, 3, 3, 2, 2, 2, 4, 1, 3, 2, 2, 2, 0, 2,\n",
              "       4, 3, 3, 2, 2, 1, 2, 0, 4, 3, 1, 3, 3, 2, 3, 1, 1, 2, 3, 0, 1, 3,\n",
              "       4, 3, 3, 3, 1, 4, 1, 1, 3, 4, 1, 3, 2, 0, 3, 0, 1, 1, 2, 3, 3, 3,\n",
              "       2, 2, 3, 2, 3, 2, 2, 1, 2, 3, 2, 3, 2, 2, 3, 1, 4, 2, 3, 3, 3, 1,\n",
              "       1, 2, 1, 4, 4, 3, 0, 4, 2, 4, 2, 3, 2, 3, 2, 0, 3, 2, 4, 1, 0, 3,\n",
              "       1, 0, 3, 2, 3, 3, 2, 4, 3, 3, 1, 1, 2, 2, 2, 4, 2, 3, 1, 2, 1, 4,\n",
              "       4, 4, 3, 2, 1, 0, 2, 3, 4, 2, 2, 1, 3, 2, 3, 0, 2, 2, 1, 3, 3, 2,\n",
              "       2, 1, 3, 4, 2, 2, 2, 4, 3, 4, 3, 1, 2, 3, 3, 1, 3, 1, 2, 1, 3, 0,\n",
              "       1, 3, 1, 2, 1, 1, 1, 2, 0, 4, 3, 1, 1, 2, 2, 1, 4, 1, 2, 2, 1, 3,\n",
              "       3, 4, 1, 4, 3, 4, 4, 2, 2, 2, 4, 1, 2, 0, 3, 4, 2, 1, 0, 0, 2, 4,\n",
              "       2, 1, 0, 3, 1, 2, 0, 3, 4, 1, 2, 2, 2, 2, 3, 1, 0, 2, 0, 1, 1, 2,\n",
              "       4, 0, 1, 2, 3, 2, 1, 1, 3, 4, 2, 3, 2, 3, 2, 0, 4, 4, 2, 1, 1, 2,\n",
              "       1, 2, 2, 4, 3, 2, 2, 3, 2, 1, 4, 2, 1, 2, 1, 4, 2, 2, 3, 2, 3, 3,\n",
              "       2, 4, 1, 3, 4, 2, 4, 2, 3, 3, 4, 4, 0, 3, 4, 4, 1, 1, 3, 3, 3, 2,\n",
              "       0, 3, 3, 3, 1, 3, 2, 4, 3, 0, 2, 2, 1, 4, 4, 2, 2, 1, 3, 2, 3, 1,\n",
              "       3, 4, 4, 3, 4, 2, 2, 3, 3, 2, 2, 3, 0, 4, 3, 3, 2, 3, 2, 0, 1, 2,\n",
              "       1, 3, 1, 4, 4, 3, 4, 2, 2, 4, 2, 3, 3, 2, 0, 3, 4, 2, 3, 3, 0, 2,\n",
              "       4, 1, 3, 2, 0, 3, 0, 2, 1, 2, 3, 2, 1, 3, 1, 0, 2, 0, 2, 4, 0, 3,\n",
              "       4, 1, 3, 3, 0, 4, 2, 2, 3, 3])"
            ]
          },
          "metadata": {},
          "execution_count": 980
        }
      ]
    },
    {
      "cell_type": "code",
      "source": [
        "target.shape"
      ],
      "metadata": {
        "colab": {
          "base_uri": "https://localhost:8080/"
        },
        "id": "wiUOr8EYpOlo",
        "outputId": "667810bc-bff6-46a1-9409-f2d3dc87590a"
      },
      "execution_count": null,
      "outputs": [
        {
          "output_type": "execute_result",
          "data": {
            "text/plain": [
              "(1000,)"
            ]
          },
          "metadata": {},
          "execution_count": 981
        }
      ]
    },
    {
      "cell_type": "markdown",
      "source": [
        "## Escalonamento por padronização"
      ],
      "metadata": {
        "id": "PfiYYa0i21pA"
      }
    },
    {
      "cell_type": "code",
      "source": [
        "from sklearn.preprocessing import StandardScaler"
      ],
      "metadata": {
        "id": "ouRfMlQKgocy"
      },
      "execution_count": null,
      "outputs": []
    },
    {
      "cell_type": "code",
      "source": [
        "previsores_esc = StandardScaler().fit_transform(previsores)"
      ],
      "metadata": {
        "id": "06j9f4jno2XI"
      },
      "execution_count": null,
      "outputs": []
    },
    {
      "cell_type": "code",
      "source": [
        "previsores_esc"
      ],
      "metadata": {
        "colab": {
          "base_uri": "https://localhost:8080/"
        },
        "id": "l3L6eKukpf48",
        "outputId": "6c6ae661-28ef-446c-8fbf-a76fab9aac7c"
      },
      "execution_count": null,
      "outputs": [
        {
          "output_type": "execute_result",
          "data": {
            "text/plain": [
              "array([[-0.96462528, -1.01504393,  1.37244949, ...,  0.39002351,\n",
              "         0.19399858,  0.39149181],\n",
              "       [-0.96462528, -0.15044092, -1.26434108, ...,  0.19207553,\n",
              "         1.42747598,  1.31326868],\n",
              "       [-0.96462528, -1.01504393,  2.03164714, ...,  1.57771141,\n",
              "         1.77010859,  1.64247471],\n",
              "       ...,\n",
              "       [-0.96462528, -0.15044092,  0.05405421, ..., -0.46775108,\n",
              "         0.12547206, -0.20107904],\n",
              "       [-0.96462528,  0.71416208, -1.26434108, ...,  0.12609287,\n",
              "         0.60515772,  0.58901542],\n",
              "       [-0.96462528,  0.71416208, -1.26434108, ...,  0.71993682,\n",
              "         1.15336989,  1.18158627]])"
            ]
          },
          "metadata": {},
          "execution_count": 984
        }
      ]
    },
    {
      "cell_type": "code",
      "source": [
        "previsoresdf = pd.DataFrame(previsores_esc)\n",
        "previsoresdf"
      ],
      "metadata": {
        "colab": {
          "base_uri": "https://localhost:8080/",
          "height": 424
        },
        "id": "sq2ef0G7qEWo",
        "outputId": "3d85f89f-4dc5-4cbc-84bd-3699099ad1e1"
      },
      "execution_count": null,
      "outputs": [
        {
          "output_type": "execute_result",
          "data": {
            "text/plain": [
              "            0         1         2         3         4         5         6  \\\n",
              "0   -0.964625 -1.015044  1.372449 -0.741881 -0.746748  0.390024  0.193999   \n",
              "1   -0.964625 -0.150441 -1.264341 -0.741881  1.339140  0.192076  1.427476   \n",
              "2   -0.964625 -1.015044  2.031647 -0.741881 -0.746748  1.577711  1.770109   \n",
              "3    1.036672 -1.879647 -0.605143  1.347925 -0.746748 -1.259543 -0.833899   \n",
              "4    1.036672 -0.150441 -1.264341 -0.741881 -0.746748  0.653954  0.605158   \n",
              "..        ...       ...       ...       ...       ...       ...       ...   \n",
              "995 -0.964625  1.578765  2.031647 -0.741881  1.339140  1.445746  2.044215   \n",
              "996  1.036672 -0.150441  0.054054  1.347925 -0.746748 -0.269803 -0.970952   \n",
              "997 -0.964625 -0.150441  0.054054  1.347925  1.339140 -0.467751  0.125472   \n",
              "998 -0.964625  0.714162 -1.264341 -0.741881  1.339140  0.126093  0.605158   \n",
              "999 -0.964625  0.714162 -1.264341  1.347925 -0.746748  0.719937  1.153370   \n",
              "\n",
              "            7  \n",
              "0    0.391492  \n",
              "1    1.313269  \n",
              "2    1.642475  \n",
              "3   -1.583744  \n",
              "4    0.457333  \n",
              "..        ...  \n",
              "995  1.774157  \n",
              "996 -0.859491  \n",
              "997 -0.201079  \n",
              "998  0.589015  \n",
              "999  1.181586  \n",
              "\n",
              "[1000 rows x 8 columns]"
            ],
            "text/html": [
              "\n",
              "  <div id=\"df-afa67d83-d5c8-4e20-95cc-382244d5d1ac\">\n",
              "    <div class=\"colab-df-container\">\n",
              "      <div>\n",
              "<style scoped>\n",
              "    .dataframe tbody tr th:only-of-type {\n",
              "        vertical-align: middle;\n",
              "    }\n",
              "\n",
              "    .dataframe tbody tr th {\n",
              "        vertical-align: top;\n",
              "    }\n",
              "\n",
              "    .dataframe thead th {\n",
              "        text-align: right;\n",
              "    }\n",
              "</style>\n",
              "<table border=\"1\" class=\"dataframe\">\n",
              "  <thead>\n",
              "    <tr style=\"text-align: right;\">\n",
              "      <th></th>\n",
              "      <th>0</th>\n",
              "      <th>1</th>\n",
              "      <th>2</th>\n",
              "      <th>3</th>\n",
              "      <th>4</th>\n",
              "      <th>5</th>\n",
              "      <th>6</th>\n",
              "      <th>7</th>\n",
              "    </tr>\n",
              "  </thead>\n",
              "  <tbody>\n",
              "    <tr>\n",
              "      <th>0</th>\n",
              "      <td>-0.964625</td>\n",
              "      <td>-1.015044</td>\n",
              "      <td>1.372449</td>\n",
              "      <td>-0.741881</td>\n",
              "      <td>-0.746748</td>\n",
              "      <td>0.390024</td>\n",
              "      <td>0.193999</td>\n",
              "      <td>0.391492</td>\n",
              "    </tr>\n",
              "    <tr>\n",
              "      <th>1</th>\n",
              "      <td>-0.964625</td>\n",
              "      <td>-0.150441</td>\n",
              "      <td>-1.264341</td>\n",
              "      <td>-0.741881</td>\n",
              "      <td>1.339140</td>\n",
              "      <td>0.192076</td>\n",
              "      <td>1.427476</td>\n",
              "      <td>1.313269</td>\n",
              "    </tr>\n",
              "    <tr>\n",
              "      <th>2</th>\n",
              "      <td>-0.964625</td>\n",
              "      <td>-1.015044</td>\n",
              "      <td>2.031647</td>\n",
              "      <td>-0.741881</td>\n",
              "      <td>-0.746748</td>\n",
              "      <td>1.577711</td>\n",
              "      <td>1.770109</td>\n",
              "      <td>1.642475</td>\n",
              "    </tr>\n",
              "    <tr>\n",
              "      <th>3</th>\n",
              "      <td>1.036672</td>\n",
              "      <td>-1.879647</td>\n",
              "      <td>-0.605143</td>\n",
              "      <td>1.347925</td>\n",
              "      <td>-0.746748</td>\n",
              "      <td>-1.259543</td>\n",
              "      <td>-0.833899</td>\n",
              "      <td>-1.583744</td>\n",
              "    </tr>\n",
              "    <tr>\n",
              "      <th>4</th>\n",
              "      <td>1.036672</td>\n",
              "      <td>-0.150441</td>\n",
              "      <td>-1.264341</td>\n",
              "      <td>-0.741881</td>\n",
              "      <td>-0.746748</td>\n",
              "      <td>0.653954</td>\n",
              "      <td>0.605158</td>\n",
              "      <td>0.457333</td>\n",
              "    </tr>\n",
              "    <tr>\n",
              "      <th>...</th>\n",
              "      <td>...</td>\n",
              "      <td>...</td>\n",
              "      <td>...</td>\n",
              "      <td>...</td>\n",
              "      <td>...</td>\n",
              "      <td>...</td>\n",
              "      <td>...</td>\n",
              "      <td>...</td>\n",
              "    </tr>\n",
              "    <tr>\n",
              "      <th>995</th>\n",
              "      <td>-0.964625</td>\n",
              "      <td>1.578765</td>\n",
              "      <td>2.031647</td>\n",
              "      <td>-0.741881</td>\n",
              "      <td>1.339140</td>\n",
              "      <td>1.445746</td>\n",
              "      <td>2.044215</td>\n",
              "      <td>1.774157</td>\n",
              "    </tr>\n",
              "    <tr>\n",
              "      <th>996</th>\n",
              "      <td>1.036672</td>\n",
              "      <td>-0.150441</td>\n",
              "      <td>0.054054</td>\n",
              "      <td>1.347925</td>\n",
              "      <td>-0.746748</td>\n",
              "      <td>-0.269803</td>\n",
              "      <td>-0.970952</td>\n",
              "      <td>-0.859491</td>\n",
              "    </tr>\n",
              "    <tr>\n",
              "      <th>997</th>\n",
              "      <td>-0.964625</td>\n",
              "      <td>-0.150441</td>\n",
              "      <td>0.054054</td>\n",
              "      <td>1.347925</td>\n",
              "      <td>1.339140</td>\n",
              "      <td>-0.467751</td>\n",
              "      <td>0.125472</td>\n",
              "      <td>-0.201079</td>\n",
              "    </tr>\n",
              "    <tr>\n",
              "      <th>998</th>\n",
              "      <td>-0.964625</td>\n",
              "      <td>0.714162</td>\n",
              "      <td>-1.264341</td>\n",
              "      <td>-0.741881</td>\n",
              "      <td>1.339140</td>\n",
              "      <td>0.126093</td>\n",
              "      <td>0.605158</td>\n",
              "      <td>0.589015</td>\n",
              "    </tr>\n",
              "    <tr>\n",
              "      <th>999</th>\n",
              "      <td>-0.964625</td>\n",
              "      <td>0.714162</td>\n",
              "      <td>-1.264341</td>\n",
              "      <td>1.347925</td>\n",
              "      <td>-0.746748</td>\n",
              "      <td>0.719937</td>\n",
              "      <td>1.153370</td>\n",
              "      <td>1.181586</td>\n",
              "    </tr>\n",
              "  </tbody>\n",
              "</table>\n",
              "<p>1000 rows × 8 columns</p>\n",
              "</div>\n",
              "      <button class=\"colab-df-convert\" onclick=\"convertToInteractive('df-afa67d83-d5c8-4e20-95cc-382244d5d1ac')\"\n",
              "              title=\"Convert this dataframe to an interactive table.\"\n",
              "              style=\"display:none;\">\n",
              "        \n",
              "  <svg xmlns=\"http://www.w3.org/2000/svg\" height=\"24px\"viewBox=\"0 0 24 24\"\n",
              "       width=\"24px\">\n",
              "    <path d=\"M0 0h24v24H0V0z\" fill=\"none\"/>\n",
              "    <path d=\"M18.56 5.44l.94 2.06.94-2.06 2.06-.94-2.06-.94-.94-2.06-.94 2.06-2.06.94zm-11 1L8.5 8.5l.94-2.06 2.06-.94-2.06-.94L8.5 2.5l-.94 2.06-2.06.94zm10 10l.94 2.06.94-2.06 2.06-.94-2.06-.94-.94-2.06-.94 2.06-2.06.94z\"/><path d=\"M17.41 7.96l-1.37-1.37c-.4-.4-.92-.59-1.43-.59-.52 0-1.04.2-1.43.59L10.3 9.45l-7.72 7.72c-.78.78-.78 2.05 0 2.83L4 21.41c.39.39.9.59 1.41.59.51 0 1.02-.2 1.41-.59l7.78-7.78 2.81-2.81c.8-.78.8-2.07 0-2.86zM5.41 20L4 18.59l7.72-7.72 1.47 1.35L5.41 20z\"/>\n",
              "  </svg>\n",
              "      </button>\n",
              "      \n",
              "  <style>\n",
              "    .colab-df-container {\n",
              "      display:flex;\n",
              "      flex-wrap:wrap;\n",
              "      gap: 12px;\n",
              "    }\n",
              "\n",
              "    .colab-df-convert {\n",
              "      background-color: #E8F0FE;\n",
              "      border: none;\n",
              "      border-radius: 50%;\n",
              "      cursor: pointer;\n",
              "      display: none;\n",
              "      fill: #1967D2;\n",
              "      height: 32px;\n",
              "      padding: 0 0 0 0;\n",
              "      width: 32px;\n",
              "    }\n",
              "\n",
              "    .colab-df-convert:hover {\n",
              "      background-color: #E2EBFA;\n",
              "      box-shadow: 0px 1px 2px rgba(60, 64, 67, 0.3), 0px 1px 3px 1px rgba(60, 64, 67, 0.15);\n",
              "      fill: #174EA6;\n",
              "    }\n",
              "\n",
              "    [theme=dark] .colab-df-convert {\n",
              "      background-color: #3B4455;\n",
              "      fill: #D2E3FC;\n",
              "    }\n",
              "\n",
              "    [theme=dark] .colab-df-convert:hover {\n",
              "      background-color: #434B5C;\n",
              "      box-shadow: 0px 1px 3px 1px rgba(0, 0, 0, 0.15);\n",
              "      filter: drop-shadow(0px 1px 2px rgba(0, 0, 0, 0.3));\n",
              "      fill: #FFFFFF;\n",
              "    }\n",
              "  </style>\n",
              "\n",
              "      <script>\n",
              "        const buttonEl =\n",
              "          document.querySelector('#df-afa67d83-d5c8-4e20-95cc-382244d5d1ac button.colab-df-convert');\n",
              "        buttonEl.style.display =\n",
              "          google.colab.kernel.accessAllowed ? 'block' : 'none';\n",
              "\n",
              "        async function convertToInteractive(key) {\n",
              "          const element = document.querySelector('#df-afa67d83-d5c8-4e20-95cc-382244d5d1ac');\n",
              "          const dataTable =\n",
              "            await google.colab.kernel.invokeFunction('convertToInteractive',\n",
              "                                                     [key], {});\n",
              "          if (!dataTable) return;\n",
              "\n",
              "          const docLinkHtml = 'Like what you see? Visit the ' +\n",
              "            '<a target=\"_blank\" href=https://colab.research.google.com/notebooks/data_table.ipynb>data table notebook</a>'\n",
              "            + ' to learn more about interactive tables.';\n",
              "          element.innerHTML = '';\n",
              "          dataTable['output_type'] = 'display_data';\n",
              "          await google.colab.output.renderOutput(dataTable, element);\n",
              "          const docLink = document.createElement('div');\n",
              "          docLink.innerHTML = docLinkHtml;\n",
              "          element.appendChild(docLink);\n",
              "        }\n",
              "      </script>\n",
              "    </div>\n",
              "  </div>\n",
              "  "
            ]
          },
          "metadata": {},
          "execution_count": 985
        }
      ]
    },
    {
      "cell_type": "markdown",
      "source": [
        "## Base de treino e teste\n",
        "Parâmetros train_test_split:   \n",
        "- arrays: nomes dos atributos previsores e alvo.   \n",
        "- test_size: tamanho em porcentagem dos dados de teste. default é none.   \n",
        "- train_size: tamanho em porcentagem dos dados de treinamento.default é none.  \n",
        "- random_state: nomeação de um estado aleatório.   \n",
        "- shuffle: embaralhamento dos dados aleatórios. Associado com o random_state ocorre o mesmo embaralhamento sempre. Default é True.  \n",
        "- stratify: Possibilidade de dividir os dados de forma estratificada. Default é None (nesse caso é mantido a proporção, isto é, se tem 30% de zeros e 70% de 1 no dataframe, na separação em treinamento e teste se manterá essa proporção)."
      ],
      "metadata": {
        "id": "7fj-BJ6Gvedh"
      }
    },
    {
      "cell_type": "code",
      "source": [
        "from sklearn.model_selection import train_test_split"
      ],
      "metadata": {
        "id": "2CJZ9RCsvoiC"
      },
      "execution_count": null,
      "outputs": []
    },
    {
      "cell_type": "markdown",
      "source": [
        "Realizamos o Treino com 70% dos dados e utilizamos o restante dos dados (30%) para o Teste."
      ],
      "metadata": {
        "id": "1pytJ6F42sbp"
      }
    },
    {
      "cell_type": "code",
      "source": [
        "#valores padrões para treino e teste\n",
        "x_treino, x_teste, y_treino, y_teste = train_test_split(previsores_esc, target, test_size = 0.3, random_state = 10)"
      ],
      "metadata": {
        "id": "fzhvCOapvs6s"
      },
      "execution_count": null,
      "outputs": []
    },
    {
      "cell_type": "code",
      "source": [
        "print(\"Dados para treino: \" + str(x_treino.shape) + \" dados para teste: \" + str(x_teste.shape))"
      ],
      "metadata": {
        "colab": {
          "base_uri": "https://localhost:8080/"
        },
        "id": "IvVZJqgUv7HH",
        "outputId": "e3445867-975b-45f8-ba07-1c7e8abd14fc"
      },
      "execution_count": null,
      "outputs": [
        {
          "output_type": "stream",
          "name": "stdout",
          "text": [
            "Dados para treino: (700, 8) dados para teste: (300, 8)\n"
          ]
        }
      ]
    },
    {
      "cell_type": "code",
      "source": [
        "from sklearn.metrics import accuracy_score, confusion_matrix, classification_report"
      ],
      "metadata": {
        "id": "eCe7mHRkD4WN"
      },
      "execution_count": null,
      "outputs": []
    },
    {
      "cell_type": "markdown",
      "source": [
        "\n",
        " ## Árvore de decisão"
      ],
      "metadata": {
        "id": "9Ff0yIsMyIOw"
      }
    },
    {
      "cell_type": "code",
      "source": [
        "from sklearn.tree import DecisionTreeClassifier\n",
        "from sklearn import tree"
      ],
      "metadata": {
        "id": "lv_gr__AyPG_"
      },
      "execution_count": null,
      "outputs": []
    },
    {
      "cell_type": "code",
      "source": [
        "x_treino, x_teste, y_treino, y_teste = train_test_split(previsores_esc, target, test_size = 0.5, random_state = 10)"
      ],
      "metadata": {
        "id": "tF0eivsu0_eA"
      },
      "execution_count": null,
      "outputs": []
    },
    {
      "cell_type": "markdown",
      "source": [
        "Usar a Entropy (Entropia) como critério de divisão dos nós de árvore é equivalente a minimizar a perda de logaritmos.Calcula a entropia das classes possíveis. Leva as frequências de classe dos pontos de dados de treinamento que atingiram uma determinada folha como sua probabilidade."
      ],
      "metadata": {
        "id": "d9S8Wm-748S4"
      }
    },
    {
      "cell_type": "code",
      "source": [
        "arvore = DecisionTreeClassifier(criterion='entropy', random_state = 0, max_depth=2, min_samples_leaf=1, min_weight_fraction_leaf=0.2)\n",
        "_arvore = arvore.fit(x_treino, y_treino)"
      ],
      "metadata": {
        "id": "VnfHyWtvyRL3"
      },
      "execution_count": null,
      "outputs": []
    },
    {
      "cell_type": "code",
      "source": [
        "tree.plot_tree(_arvore)"
      ],
      "metadata": {
        "colab": {
          "base_uri": "https://localhost:8080/",
          "height": 373
        },
        "id": "iensMS7tya2j",
        "outputId": "8baf5434-d817-4736-8cad-07ea197c715f"
      },
      "execution_count": null,
      "outputs": [
        {
          "output_type": "execute_result",
          "data": {
            "text/plain": [
              "[Text(0.5, 0.8333333333333334, 'X[1] <= 0.282\\nentropy = 2.192\\nsamples = 500\\nvalue = [45, 89, 160, 135, 71]'),\n",
              " Text(0.25, 0.5, 'X[1] <= -0.583\\nentropy = 1.414\\nsamples = 294\\nvalue = [45, 89, 160, 0, 0]'),\n",
              " Text(0.125, 0.16666666666666666, 'entropy = 0.921\\nsamples = 134\\nvalue = [45, 89, 0, 0, 0]'),\n",
              " Text(0.375, 0.16666666666666666, 'entropy = 0.0\\nsamples = 160\\nvalue = [0, 0, 160, 0, 0]'),\n",
              " Text(0.75, 0.5, 'X[5] <= 0.291\\nentropy = 0.929\\nsamples = 206\\nvalue = [0, 0, 0, 135, 71]'),\n",
              " Text(0.625, 0.16666666666666666, 'entropy = 0.854\\nsamples = 104\\nvalue = [0, 0, 0, 75, 29]'),\n",
              " Text(0.875, 0.16666666666666666, 'entropy = 0.977\\nsamples = 102\\nvalue = [0, 0, 0, 60, 42]')]"
            ]
          },
          "metadata": {},
          "execution_count": 1107
        },
        {
          "output_type": "display_data",
          "data": {
            "text/plain": [
              "<Figure size 432x288 with 1 Axes>"
            ],
            "image/png": "[encoded data removed]"
          },
          "metadata": {
            "needs_background": "light"
          }
        }
      ]
    },
    {
      "cell_type": "code",
      "source": [
        "previsoes_arvore = arvore.predict(x_teste)\n",
        "previsoes_arvore"
      ],
      "metadata": {
        "colab": {
          "base_uri": "https://localhost:8080/"
        },
        "id": "A7k0v4A1ynGr",
        "outputId": "dcfbbf64-a798-4af8-dbf8-e8a71d846b12"
      },
      "execution_count": null,
      "outputs": [
        {
          "output_type": "execute_result",
          "data": {
            "text/plain": [
              "array([2, 2, 3, 2, 1, 3, 1, 3, 3, 2, 3, 3, 3, 1, 3, 2, 3, 2, 1, 3, 1, 3,\n",
              "       3, 1, 1, 2, 3, 3, 3, 3, 2, 3, 1, 3, 3, 1, 2, 3, 3, 2, 3, 1, 2, 3,\n",
              "       2, 3, 1, 3, 1, 2, 2, 3, 1, 1, 1, 2, 3, 3, 3, 3, 3, 3, 1, 3, 2, 1,\n",
              "       3, 1, 1, 3, 2, 3, 2, 3, 2, 1, 3, 2, 1, 2, 1, 2, 2, 2, 2, 2, 3, 3,\n",
              "       3, 2, 2, 3, 1, 3, 3, 2, 2, 3, 2, 3, 3, 2, 3, 3, 3, 1, 3, 3, 2, 1,\n",
              "       2, 2, 1, 3, 2, 2, 1, 1, 2, 1, 1, 3, 1, 2, 1, 2, 1, 1, 3, 1, 3, 3,\n",
              "       2, 2, 2, 2, 3, 3, 1, 2, 2, 2, 3, 2, 2, 3, 2, 2, 3, 3, 2, 1, 3, 2,\n",
              "       1, 2, 3, 1, 1, 1, 2, 2, 3, 3, 3, 1, 1, 1, 3, 2, 1, 2, 1, 3, 3, 2,\n",
              "       2, 1, 1, 3, 3, 3, 3, 3, 1, 2, 1, 1, 2, 1, 1, 1, 1, 1, 3, 1, 1, 1,\n",
              "       2, 3, 1, 2, 3, 3, 1, 3, 2, 2, 1, 1, 1, 3, 1, 3, 1, 3, 3, 2, 3, 3,\n",
              "       3, 3, 1, 2, 2, 2, 1, 3, 2, 1, 1, 3, 3, 3, 1, 3, 1, 3, 1, 2, 3, 1,\n",
              "       1, 3, 3, 2, 2, 1, 3, 3, 2, 1, 3, 3, 2, 2, 1, 3, 2, 1, 1, 3, 3, 3,\n",
              "       3, 2, 2, 2, 1, 1, 3, 2, 2, 3, 1, 1, 2, 1, 3, 3, 1, 2, 1, 3, 3, 1,\n",
              "       1, 2, 1, 3, 2, 1, 2, 3, 3, 3, 3, 3, 2, 2, 2, 3, 1, 3, 3, 3, 3, 2,\n",
              "       1, 3, 1, 1, 1, 2, 2, 2, 2, 2, 2, 3, 1, 2, 2, 3, 2, 1, 1, 1, 2, 3,\n",
              "       3, 3, 2, 3, 2, 2, 3, 3, 3, 1, 2, 3, 2, 1, 2, 3, 3, 2, 2, 2, 3, 2,\n",
              "       1, 2, 3, 3, 3, 2, 3, 2, 3, 2, 3, 1, 2, 2, 2, 1, 2, 2, 3, 3, 3, 1,\n",
              "       3, 2, 3, 2, 2, 3, 3, 3, 2, 1, 3, 3, 1, 2, 3, 3, 2, 1, 3, 2, 2, 3,\n",
              "       2, 1, 2, 3, 3, 3, 1, 3, 3, 2, 1, 3, 3, 1, 1, 1, 1, 3, 3, 1, 3, 3,\n",
              "       1, 1, 1, 3, 2, 1, 1, 3, 2, 1, 1, 1, 2, 1, 3, 3, 2, 2, 2, 3, 2, 3,\n",
              "       2, 3, 1, 1, 2, 2, 3, 3, 2, 3, 2, 1, 2, 2, 1, 3, 3, 1, 2, 1, 2, 2,\n",
              "       1, 3, 2, 3, 2, 1, 2, 2, 2, 3, 2, 3, 3, 1, 3, 3, 1, 2, 1, 3, 1, 1,\n",
              "       3, 1, 1, 1, 3, 1, 3, 3, 3, 3, 2, 3, 2, 1, 2, 1])"
            ]
          },
          "metadata": {},
          "execution_count": 1108
        }
      ]
    },
    {
      "cell_type": "code",
      "source": [
        "print(\"Acurácia: %.4f%%\" % (accuracy_score(y_teste, previsoes_arvore) * 100.0))"
      ],
      "metadata": {
        "colab": {
          "base_uri": "https://localhost:8080/"
        },
        "id": "Sao6hECEyuVO",
        "outputId": "d36ed721-45f2-4fed-ca6c-ae898b6fb57d"
      },
      "execution_count": null,
      "outputs": [
        {
          "output_type": "stream",
          "name": "stdout",
          "text": [
            "Acurácia: 77.4000%\n"
          ]
        }
      ]
    },
    {
      "cell_type": "code",
      "source": [
        "confusion_matrix(y_teste, previsoes_arvore)"
      ],
      "metadata": {
        "colab": {
          "base_uri": "https://localhost:8080/"
        },
        "id": "npyiKJ7b4fGX",
        "outputId": "a41b5ae8-907c-4a39-efd0-0719e77427d7"
      },
      "execution_count": null,
      "outputs": [
        {
          "output_type": "execute_result",
          "data": {
            "text/plain": [
              "array([[  0,  44,   0,   0,   0],\n",
              "       [  0, 101,   0,   0,   0],\n",
              "       [  0,   0, 159,   0,   0],\n",
              "       [  0,   0,   0, 127,   0],\n",
              "       [  0,   0,   0,  69,   0]])"
            ]
          },
          "metadata": {},
          "execution_count": 1110
        }
      ]
    },
    {
      "cell_type": "code",
      "source": [
        "print(classification_report(y_teste, previsoes_arvore))"
      ],
      "metadata": {
        "colab": {
          "base_uri": "https://localhost:8080/"
        },
        "id": "5Dvv0oEsNpyr",
        "outputId": "490fd7b3-c4c5-4b0c-ae35-d98f7dcadcac"
      },
      "execution_count": null,
      "outputs": [
        {
          "output_type": "stream",
          "name": "stdout",
          "text": [
            "              precision    recall  f1-score   support\n",
            "\n",
            "           0       0.00      0.00      0.00        44\n",
            "           1       0.70      1.00      0.82       101\n",
            "           2       1.00      1.00      1.00       159\n",
            "           3       0.65      1.00      0.79       127\n",
            "           4       0.00      0.00      0.00        69\n",
            "\n",
            "    accuracy                           0.77       500\n",
            "   macro avg       0.47      0.60      0.52       500\n",
            "weighted avg       0.62      0.77      0.68       500\n",
            "\n"
          ]
        },
        {
          "output_type": "stream",
          "name": "stderr",
          "text": [
            "/usr/local/lib/python3.7/dist-packages/sklearn/metrics/_classification.py:1318: UndefinedMetricWarning: Precision and F-score are ill-defined and being set to 0.0 in labels with no predicted samples. Use `zero_division` parameter to control this behavior.\n",
            "  _warn_prf(average, modifier, msg_start, len(result))\n",
            "/usr/local/lib/python3.7/dist-packages/sklearn/metrics/_classification.py:1318: UndefinedMetricWarning: Precision and F-score are ill-defined and being set to 0.0 in labels with no predicted samples. Use `zero_division` parameter to control this behavior.\n",
            "  _warn_prf(average, modifier, msg_start, len(result))\n",
            "/usr/local/lib/python3.7/dist-packages/sklearn/metrics/_classification.py:1318: UndefinedMetricWarning: Precision and F-score are ill-defined and being set to 0.0 in labels with no predicted samples. Use `zero_division` parameter to control this behavior.\n",
            "  _warn_prf(average, modifier, msg_start, len(result))\n"
          ]
        }
      ]
    },
    {
      "cell_type": "markdown",
      "source": [
        "Análise dados de treino"
      ],
      "metadata": {
        "id": "LOy261mHNuYE"
      }
    },
    {
      "cell_type": "code",
      "source": [
        "previsoes_treino = arvore.predict(x_treino)\n",
        "previsoes_treino"
      ],
      "metadata": {
        "colab": {
          "base_uri": "https://localhost:8080/"
        },
        "id": "2N6YbaaIOMIZ",
        "outputId": "bb40916c-f5c8-4534-e7bf-7ecdf5abcc34"
      },
      "execution_count": null,
      "outputs": [
        {
          "output_type": "execute_result",
          "data": {
            "text/plain": [
              "array([1, 2, 3, 3, 3, 3, 3, 3, 2, 3, 3, 3, 1, 1, 1, 2, 1, 2, 1, 1, 3, 3,\n",
              "       3, 2, 3, 3, 3, 1, 2, 3, 3, 1, 3, 3, 3, 1, 3, 2, 2, 1, 1, 2, 1, 2,\n",
              "       3, 1, 2, 1, 3, 2, 3, 2, 1, 3, 2, 1, 1, 1, 3, 1, 1, 1, 2, 1, 3, 2,\n",
              "       3, 2, 3, 3, 1, 3, 1, 1, 1, 3, 2, 3, 1, 1, 1, 1, 2, 3, 1, 1, 2, 1,\n",
              "       2, 3, 3, 2, 1, 3, 3, 3, 3, 2, 3, 2, 3, 3, 1, 1, 2, 3, 3, 1, 3, 3,\n",
              "       3, 3, 3, 2, 3, 3, 2, 2, 2, 3, 1, 2, 2, 2, 1, 3, 2, 1, 1, 3, 3, 3,\n",
              "       1, 3, 2, 3, 3, 3, 2, 3, 3, 1, 2, 2, 3, 1, 1, 3, 3, 1, 3, 3, 1, 2,\n",
              "       3, 3, 3, 1, 1, 1, 2, 2, 1, 3, 2, 2, 1, 3, 3, 3, 3, 3, 2, 3, 3, 3,\n",
              "       3, 1, 1, 2, 1, 3, 3, 3, 2, 3, 2, 1, 3, 3, 1, 3, 1, 3, 3, 1, 3, 2,\n",
              "       1, 1, 2, 3, 2, 3, 2, 2, 2, 2, 1, 2, 3, 2, 1, 3, 2, 2, 3, 3, 2, 2,\n",
              "       3, 2, 1, 2, 2, 1, 2, 1, 1, 1, 1, 1, 3, 3, 2, 2, 2, 3, 1, 1, 2, 1,\n",
              "       1, 2, 2, 2, 2, 3, 2, 3, 3, 2, 3, 2, 2, 1, 3, 3, 2, 3, 3, 1, 1, 3,\n",
              "       2, 1, 3, 3, 3, 3, 1, 3, 2, 1, 3, 2, 3, 2, 1, 3, 2, 2, 3, 3, 1, 3,\n",
              "       2, 1, 2, 1, 2, 1, 3, 3, 1, 3, 2, 2, 3, 2, 3, 2, 3, 3, 2, 3, 1, 3,\n",
              "       1, 1, 2, 3, 3, 1, 1, 2, 2, 2, 3, 3, 2, 3, 1, 3, 3, 3, 1, 1, 1, 3,\n",
              "       3, 1, 1, 2, 3, 2, 1, 3, 1, 2, 3, 1, 3, 3, 2, 3, 3, 3, 1, 1, 3, 1,\n",
              "       3, 2, 2, 3, 3, 2, 2, 2, 2, 2, 3, 2, 1, 3, 3, 3, 2, 3, 1, 2, 2, 3,\n",
              "       2, 2, 3, 2, 3, 2, 3, 3, 2, 2, 1, 3, 1, 3, 1, 2, 3, 1, 1, 2, 3, 3,\n",
              "       2, 3, 3, 1, 3, 3, 1, 1, 1, 2, 1, 2, 3, 2, 1, 1, 3, 2, 2, 1, 3, 2,\n",
              "       2, 3, 1, 2, 3, 1, 2, 2, 3, 3, 3, 3, 3, 1, 2, 2, 2, 3, 2, 2, 2, 2,\n",
              "       2, 1, 1, 2, 2, 2, 3, 2, 2, 3, 3, 3, 3, 2, 3, 1, 2, 1, 2, 3, 3, 1,\n",
              "       2, 1, 1, 3, 3, 3, 2, 3, 3, 2, 3, 3, 2, 1, 2, 1, 3, 2, 2, 2, 2, 1,\n",
              "       2, 2, 3, 3, 3, 2, 3, 1, 3, 3, 3, 2, 2, 2, 1, 3])"
            ]
          },
          "metadata": {},
          "execution_count": 1112
        }
      ]
    },
    {
      "cell_type": "code",
      "source": [
        "accuracy_score(y_treino, previsoes_treino)"
      ],
      "metadata": {
        "colab": {
          "base_uri": "https://localhost:8080/"
        },
        "id": "XsFZsyVLN4k1",
        "outputId": "afaef196-3bdf-4bcc-83f1-76a7616a06e6"
      },
      "execution_count": null,
      "outputs": [
        {
          "output_type": "execute_result",
          "data": {
            "text/plain": [
              "0.768"
            ]
          },
          "metadata": {},
          "execution_count": 1113
        }
      ]
    },
    {
      "cell_type": "code",
      "source": [
        "confusion_matrix(y_treino, previsoes_treino)"
      ],
      "metadata": {
        "colab": {
          "base_uri": "https://localhost:8080/"
        },
        "id": "W-wd_sWyN7Vc",
        "outputId": "3b817573-65bd-4c8a-fe3f-bceb293917ca"
      },
      "execution_count": null,
      "outputs": [
        {
          "output_type": "execute_result",
          "data": {
            "text/plain": [
              "array([[  0,  45,   0,   0,   0],\n",
              "       [  0,  89,   0,   0,   0],\n",
              "       [  0,   0, 160,   0,   0],\n",
              "       [  0,   0,   0, 135,   0],\n",
              "       [  0,   0,   0,  71,   0]])"
            ]
          },
          "metadata": {},
          "execution_count": 1114
        }
      ]
    },
    {
      "cell_type": "markdown",
      "source": [
        "**Conclusão: o algoritmo decision tree teve**\n",
        "\n",
        "- Acurácia de treino: 77.4%\n",
        "- Acurácia de teste: 76.8%\n",
        "\n",
        "- parâmetros: criterion='entropy', random_state = 0, max_depth=2, min_samples_leaf=1, min_weight_fraction_leaf=0.2"
      ],
      "metadata": {
        "id": "HR00zOtZWjl7"
      }
    },
    {
      "cell_type": "markdown",
      "source": [
        "## Random Forests"
      ],
      "metadata": {
        "id": "evCdT_9e-zQQ"
      }
    },
    {
      "cell_type": "code",
      "source": [
        "from sklearn.ensemble import RandomForestClassifier"
      ],
      "metadata": {
        "id": "7-FhZxUAPgFt"
      },
      "execution_count": null,
      "outputs": []
    },
    {
      "cell_type": "code",
      "source": [
        "x_treino, x_teste, y_treino, y_teste = train_test_split(previsores_esc, target, test_size = 0.3, random_state = 10)"
      ],
      "metadata": {
        "id": "3RvUJ3BE4mFv"
      },
      "execution_count": null,
      "outputs": []
    },
    {
      "cell_type": "code",
      "source": [
        "random = RandomForestClassifier(n_estimators=1, criterion='entropy', random_state = 0)\n",
        "random.fit(x_treino, y_treino)"
      ],
      "metadata": {
        "colab": {
          "base_uri": "https://localhost:8080/"
        },
        "id": "yTiy0yi_Pi2T",
        "outputId": "ab2cb0d3-4abe-4e7b-f0b9-6754f0140049"
      },
      "execution_count": null,
      "outputs": [
        {
          "output_type": "execute_result",
          "data": {
            "text/plain": [
              "RandomForestClassifier(criterion='entropy', n_estimators=1, random_state=0)"
            ]
          },
          "metadata": {},
          "execution_count": 1001
        }
      ]
    },
    {
      "cell_type": "code",
      "source": [
        "previsoes_random = random.predict(x_teste)\n",
        "previsoes_random"
      ],
      "metadata": {
        "colab": {
          "base_uri": "https://localhost:8080/"
        },
        "id": "GKPztaOmPl5s",
        "outputId": "f8dfc9e4-71b9-4b20-8819-18e0fd345072"
      },
      "execution_count": null,
      "outputs": [
        {
          "output_type": "execute_result",
          "data": {
            "text/plain": [
              "array([2, 2, 4, 2, 3, 4, 1, 3, 4, 2, 3, 4, 3, 1, 4, 2, 4, 2, 1, 3, 1, 4,\n",
              "       3, 1, 1, 2, 3, 3, 4, 3, 2, 3, 0, 2, 3, 0, 2, 4, 3, 2, 4, 1, 1, 3,\n",
              "       2, 4, 2, 3, 1, 2, 2, 3, 0, 0, 1, 2, 3, 3, 3, 3, 3, 3, 0, 3, 2, 0,\n",
              "       4, 1, 1, 4, 2, 3, 2, 3, 2, 1, 4, 2, 0, 2, 1, 2, 2, 2, 2, 2, 4, 3,\n",
              "       4, 2, 2, 3, 1, 4, 4, 2, 3, 4, 2, 3, 3, 1, 3, 3, 4, 1, 3, 3, 3, 0,\n",
              "       2, 2, 0, 3, 2, 2, 0, 1, 2, 2, 1, 4, 1, 2, 0, 2, 1, 1, 3, 1, 4, 4,\n",
              "       2, 2, 1, 2, 1, 4, 0, 2, 4, 2, 4, 2, 2, 3, 2, 1, 3, 4, 2, 1, 4, 2,\n",
              "       1, 2, 4, 1, 1, 1, 2, 2, 3, 3, 4, 1, 1, 0, 3, 2, 1, 2, 0, 4, 4, 2,\n",
              "       2, 1, 1, 4, 3, 3, 4, 3, 1, 2, 1, 1, 2, 0, 0, 0, 1, 3, 3, 1, 1, 1,\n",
              "       1, 3, 0, 2, 4, 3, 1, 3, 2, 2, 0, 1, 1, 4, 0, 3, 0, 4, 3, 2, 3, 4,\n",
              "       3, 3, 1, 2, 2, 2, 1, 4, 2, 1, 3, 3, 4, 3, 1, 3, 1, 3, 1, 2, 4, 1,\n",
              "       1, 3, 3, 2, 2, 0, 3, 4, 2, 1, 4, 3, 2, 2, 1, 4, 2, 1, 1, 3, 4, 4,\n",
              "       4, 2, 2, 2, 1, 0, 3, 2, 2, 3, 1, 2, 2, 0, 4, 3, 1, 2, 0, 3, 3, 0,\n",
              "       1, 2, 1, 3, 2, 1, 1, 3, 4, 4, 4, 4, 2, 2])"
            ]
          },
          "metadata": {},
          "execution_count": 1002
        }
      ]
    },
    {
      "cell_type": "code",
      "source": [
        "print(\"Acurácia: %.4f%%\" % (accuracy_score(y_teste, previsoes_random) * 100.0))"
      ],
      "metadata": {
        "colab": {
          "base_uri": "https://localhost:8080/"
        },
        "id": "aG-20MikPxcM",
        "outputId": "a4ce4f9d-6d2d-4882-d74a-622dbd0bbacc"
      },
      "execution_count": null,
      "outputs": [
        {
          "output_type": "stream",
          "name": "stdout",
          "text": [
            "Acurácia: 84.0000%\n"
          ]
        }
      ]
    },
    {
      "cell_type": "code",
      "source": [
        "confusion_matrix(y_teste, previsoes_random)"
      ],
      "metadata": {
        "colab": {
          "base_uri": "https://localhost:8080/"
        },
        "id": "hHP9F6LSP1Ee",
        "outputId": "2f699024-1c4a-4330-8e47-08035aefc5ec"
      },
      "execution_count": null,
      "outputs": [
        {
          "output_type": "execute_result",
          "data": {
            "text/plain": [
              "array([[17,  9,  0,  1,  0],\n",
              "       [ 9, 50,  3,  2,  0],\n",
              "       [ 0,  6, 81,  2,  1],\n",
              "       [ 0,  1,  1, 63, 10],\n",
              "       [ 0,  0,  0,  3, 41]])"
            ]
          },
          "metadata": {},
          "execution_count": 1004
        }
      ]
    },
    {
      "cell_type": "code",
      "source": [
        "print(classification_report(y_teste, previsoes_random))"
      ],
      "metadata": {
        "colab": {
          "base_uri": "https://localhost:8080/"
        },
        "id": "NhhME0iqP4UQ",
        "outputId": "52b5c188-0072-4ffc-9703-db6b84691918"
      },
      "execution_count": null,
      "outputs": [
        {
          "output_type": "stream",
          "name": "stdout",
          "text": [
            "              precision    recall  f1-score   support\n",
            "\n",
            "           0       0.65      0.63      0.64        27\n",
            "           1       0.76      0.78      0.77        64\n",
            "           2       0.95      0.90      0.93        90\n",
            "           3       0.89      0.84      0.86        75\n",
            "           4       0.79      0.93      0.85        44\n",
            "\n",
            "    accuracy                           0.84       300\n",
            "   macro avg       0.81      0.82      0.81       300\n",
            "weighted avg       0.84      0.84      0.84       300\n",
            "\n"
          ]
        }
      ]
    },
    {
      "cell_type": "code",
      "source": [
        "accuracy_score(y_treino, previsoes_treino)"
      ],
      "metadata": {
        "colab": {
          "base_uri": "https://localhost:8080/"
        },
        "id": "bnTn1hSTP9X2",
        "outputId": "66e7b451-7395-4678-f9e6-08a6051c137a"
      },
      "execution_count": null,
      "outputs": [
        {
          "output_type": "execute_result",
          "data": {
            "text/plain": [
              "0.9114285714285715"
            ]
          },
          "metadata": {},
          "execution_count": 1006
        }
      ]
    },
    {
      "cell_type": "code",
      "source": [
        "confusion_matrix(y_treino, previsoes_treino)"
      ],
      "metadata": {
        "colab": {
          "base_uri": "https://localhost:8080/"
        },
        "id": "abVYXVOpP_xF",
        "outputId": "63d3339c-5693-4fce-8f9c-e50b6a13569f"
      },
      "execution_count": null,
      "outputs": [
        {
          "output_type": "execute_result",
          "data": {
            "text/plain": [
              "array([[  0,  62,   0,   0,   0],\n",
              "       [  0, 126,   0,   0,   0],\n",
              "       [  0,   0, 229,   0,   0],\n",
              "       [  0,   0,   0, 187,   0],\n",
              "       [  0,   0,   0,   0,  96]])"
            ]
          },
          "metadata": {},
          "execution_count": 1007
        }
      ]
    },
    {
      "cell_type": "markdown",
      "source": [
        "**Conclusão: o algoritmo de random forests teve**\n",
        "\n",
        "- Acurácia de treino: 84%\n",
        "- Acurácia de teste: 91%\n",
        "\n",
        "- parâmetros: criterion='entropy', random_state = 0, max_depth=2, min_samples_leaf=1, min_weight_fraction_leaf=0.2"
      ],
      "metadata": {
        "id": "faEnk__XWhxc"
      }
    },
    {
      "cell_type": "markdown",
      "source": [
        "## Regressão logística"
      ],
      "metadata": {
        "id": "lVYqiXXc-2E4"
      }
    },
    {
      "cell_type": "code",
      "source": [
        "from sklearn.linear_model import LogisticRegression"
      ],
      "metadata": {
        "id": "atwRC7IbVI_z"
      },
      "execution_count": null,
      "outputs": []
    },
    {
      "cell_type": "code",
      "source": [
        "x_treino, x_teste, y_treino, y_teste = train_test_split(previsores_esc, target, test_size = 0.3, random_state = 10)"
      ],
      "metadata": {
        "id": "9L9B5mn14paA"
      },
      "execution_count": null,
      "outputs": []
    },
    {
      "cell_type": "code",
      "source": [
        "logistica = LogisticRegression(random_state=1, max_iter=600, penalty=\"l2\",\n",
        "                               tol=0.0001, C=2,solver=\"liblinear\")\n",
        "# Para pequenos conjuntos de dados, 'liblinear' é uma boa escolha\n",
        "logistica.fit(x_treino, y_treino)"
      ],
      "metadata": {
        "colab": {
          "base_uri": "https://localhost:8080/"
        },
        "id": "OGCBHOByVLbf",
        "outputId": "bfc17c2f-dc25-4280-8952-9c6de42bdb9a"
      },
      "execution_count": null,
      "outputs": [
        {
          "output_type": "execute_result",
          "data": {
            "text/plain": [
              "LogisticRegression(C=2, max_iter=600, random_state=1, solver='liblinear')"
            ]
          },
          "metadata": {},
          "execution_count": 1029
        }
      ]
    },
    {
      "cell_type": "code",
      "source": [
        "logistica.intercept_"
      ],
      "metadata": {
        "colab": {
          "base_uri": "https://localhost:8080/"
        },
        "id": "pWg0SSXiVrsb",
        "outputId": "60acc0ce-076a-4d2f-8e3c-7fac215d67e7"
      },
      "execution_count": null,
      "outputs": [
        {
          "output_type": "execute_result",
          "data": {
            "text/plain": [
              "array([-7.52878334, -2.18752523, -0.74927605, -1.60428936, -7.05648106])"
            ]
          },
          "metadata": {},
          "execution_count": 1030
        }
      ]
    },
    {
      "cell_type": "code",
      "source": [
        "logistica.coef_"
      ],
      "metadata": {
        "colab": {
          "base_uri": "https://localhost:8080/"
        },
        "id": "1g17Pl_sVtfD",
        "outputId": "61fcb916-51a1-4d9e-b896-d5186b1d9950"
      },
      "execution_count": null,
      "outputs": [
        {
          "output_type": "execute_result",
          "data": {
            "text/plain": [
              "array([[ 2.54850578e-01, -5.07086547e+00,  9.43988585e-02,\n",
              "         1.55279493e-02, -1.37338870e-02, -2.74800221e-01,\n",
              "        -1.35050789e-04,  2.76510970e-01],\n",
              "       [-4.73777079e-01, -1.62000771e+00, -1.10467523e-01,\n",
              "        -2.14522133e-02,  1.04101299e-01,  6.79227499e-01,\n",
              "         1.48315231e-01, -9.08862084e-01],\n",
              "       [ 5.04098598e-02, -2.12752699e-01, -7.20981504e-03,\n",
              "        -4.43236380e-02,  6.90556623e-03, -5.02535791e-01,\n",
              "         3.05340884e-01,  1.75630153e-01],\n",
              "       [ 9.56740534e-01,  1.55355635e+00, -5.45538687e-03,\n",
              "        -5.14455452e-02, -6.66064394e-01, -1.68288880e+00,\n",
              "        -1.23527357e+00,  3.14446992e+00],\n",
              "       [-4.54388014e-01,  5.96426853e+00, -2.76221597e-02,\n",
              "         3.04086998e-02,  3.46252262e-01,  9.86077078e-01,\n",
              "         3.34969271e-01, -1.36848832e+00]])"
            ]
          },
          "metadata": {},
          "execution_count": 1031
        }
      ]
    },
    {
      "cell_type": "code",
      "source": [
        "previsoes_logistica = logistica.predict(x_teste)\n",
        "previsoes_logistica"
      ],
      "metadata": {
        "colab": {
          "base_uri": "https://localhost:8080/"
        },
        "id": "5aeN2DSnVvWQ",
        "outputId": "ae9af311-5af5-4305-c9c3-3979e59726bd"
      },
      "execution_count": null,
      "outputs": [
        {
          "output_type": "execute_result",
          "data": {
            "text/plain": [
              "array([2, 2, 3, 2, 2, 4, 2, 3, 3, 2, 3, 4, 3, 1, 4, 2, 4, 2, 2, 3, 2, 4,\n",
              "       3, 2, 1, 3, 3, 3, 4, 3, 2, 3, 2, 3, 3, 2, 2, 3, 3, 2, 4, 1, 2, 3,\n",
              "       2, 4, 2, 3, 0, 2, 2, 3, 0, 0, 2, 2, 3, 3, 3, 3, 2, 3, 0, 3, 2, 0,\n",
              "       4, 2, 0, 4, 2, 4, 2, 2, 2, 1, 3, 2, 2, 2, 1, 2, 2, 2, 3, 2, 4, 3,\n",
              "       4, 2, 2, 2, 1, 2, 3, 3, 2, 4, 2, 3, 4, 2, 2, 3, 4, 0, 3, 2, 2, 0,\n",
              "       2, 3, 1, 3, 2, 3, 2, 1, 2, 2, 2, 4, 1, 2, 0, 2, 1, 1, 3, 2, 3, 4,\n",
              "       2, 2, 2, 2, 2, 4, 1, 2, 2, 2, 2, 2, 2, 2, 2, 2, 3, 2, 2, 1, 4, 2,\n",
              "       1, 2, 4, 2, 1, 1, 2, 2, 2, 2, 4, 0, 1, 0, 3, 2, 1, 2, 0, 4, 4, 2,\n",
              "       2, 2, 2, 4, 3, 3, 4, 2, 2, 2, 1, 1, 2, 0, 0, 0, 0, 0, 2, 1, 1, 1,\n",
              "       2, 3, 2, 2, 4, 3, 0, 3, 2, 3, 0, 2, 1, 4, 0, 3, 0, 4, 3, 2, 3, 4,\n",
              "       3, 3, 2, 2, 2, 2, 1, 4, 2, 0, 2, 3, 4, 2, 2, 2, 2, 3, 0, 2, 4, 2,\n",
              "       2, 3, 3, 2, 2, 2, 3, 4, 2, 2, 4, 3, 2, 2, 1, 4, 2, 2, 2, 3, 2, 4,\n",
              "       4, 2, 2, 2, 2, 0, 3, 2, 2, 3, 1, 2, 2, 1, 4, 3, 1, 2, 2, 2, 3, 0,\n",
              "       2, 2, 0, 3, 2, 1, 2, 3, 4, 4, 4, 4, 3, 2])"
            ]
          },
          "metadata": {},
          "execution_count": 1032
        }
      ]
    },
    {
      "cell_type": "code",
      "source": [
        "print(\"Acurácia: %.4f%%\" % (accuracy_score(y_teste, previsoes_logistica) * 100.0))"
      ],
      "metadata": {
        "colab": {
          "base_uri": "https://localhost:8080/"
        },
        "id": "icoitZ4AVyMd",
        "outputId": "7fa6d503-9b5a-439a-c2ab-1dbce13a6f87"
      },
      "execution_count": null,
      "outputs": [
        {
          "output_type": "stream",
          "name": "stdout",
          "text": [
            "Acurácia: 79.3333%\n"
          ]
        }
      ]
    },
    {
      "cell_type": "code",
      "source": [
        "confusion_matrix(y_teste, previsoes_logistica)"
      ],
      "metadata": {
        "colab": {
          "base_uri": "https://localhost:8080/"
        },
        "id": "mal8S9jTWJjp",
        "outputId": "8c5c070d-7a81-4f57-8704-42e493ebbf59"
      },
      "execution_count": null,
      "outputs": [
        {
          "output_type": "execute_result",
          "data": {
            "text/plain": [
              "array([[26,  1,  0,  0,  0],\n",
              "       [ 0, 29, 35,  0,  0],\n",
              "       [ 0,  0, 83,  7,  0],\n",
              "       [ 0,  0, 18, 57,  0],\n",
              "       [ 0,  0,  0,  1, 43]])"
            ]
          },
          "metadata": {},
          "execution_count": 1034
        }
      ]
    },
    {
      "cell_type": "code",
      "source": [
        "print(classification_report(y_teste, previsoes_logistica))"
      ],
      "metadata": {
        "colab": {
          "base_uri": "https://localhost:8080/"
        },
        "id": "C8vqDgo5WMoQ",
        "outputId": "45f9a95e-b70f-4dc0-9abc-4c44b404b3f3"
      },
      "execution_count": null,
      "outputs": [
        {
          "output_type": "stream",
          "name": "stdout",
          "text": [
            "              precision    recall  f1-score   support\n",
            "\n",
            "           0       1.00      0.96      0.98        27\n",
            "           1       0.97      0.45      0.62        64\n",
            "           2       0.61      0.92      0.73        90\n",
            "           3       0.88      0.76      0.81        75\n",
            "           4       1.00      0.98      0.99        44\n",
            "\n",
            "    accuracy                           0.79       300\n",
            "   macro avg       0.89      0.82      0.83       300\n",
            "weighted avg       0.85      0.79      0.79       300\n",
            "\n"
          ]
        }
      ]
    },
    {
      "cell_type": "markdown",
      "source": [
        "Analise dados de treino"
      ],
      "metadata": {
        "id": "vsjpTragWP-7"
      }
    },
    {
      "cell_type": "code",
      "source": [
        "previsoes_treino = logistica.predict(x_treino)\n",
        "previsoes_treino"
      ],
      "metadata": {
        "colab": {
          "base_uri": "https://localhost:8080/"
        },
        "id": "eFR1RsUNWPgL",
        "outputId": "a4804568-0f7d-4af2-ed57-2b20d4289d91"
      },
      "execution_count": null,
      "outputs": [
        {
          "output_type": "execute_result",
          "data": {
            "text/plain": [
              "array([2, 4, 0, 2, 2, 4, 3, 2, 2, 3, 0, 2, 0, 2, 2, 2, 2, 2, 2, 4, 0, 2,\n",
              "       2, 3, 3, 2, 0, 2, 2, 4, 4, 3, 2, 3, 2, 2, 4, 4, 3, 2, 2, 4, 2, 2,\n",
              "       2, 2, 3, 2, 2, 2, 3, 2, 2, 2, 3, 3, 3, 2, 4, 2, 3, 2, 3, 0, 2, 2,\n",
              "       2, 2, 2, 2, 3, 4, 4, 0, 4, 2, 3, 3, 2, 3, 3, 3, 2, 2, 4, 4, 2, 2,\n",
              "       4, 3, 2, 1, 3, 2, 2, 4, 2, 1, 3, 4, 4, 3, 1, 2, 2, 2, 2, 3, 3, 0,\n",
              "       2, 2, 1, 3, 4, 0, 3, 4, 1, 2, 0, 3, 2, 1, 0, 3, 2, 2, 0, 0, 2, 1,\n",
              "       2, 3, 2, 3, 2, 3, 2, 3, 3, 4, 0, 1, 2, 2, 4, 2, 2, 4, 2, 0, 2, 3,\n",
              "       1, 3, 3, 1, 2, 1, 2, 2, 1, 3, 2, 4, 2, 2, 2, 2, 3, 3, 2, 3, 3, 1,\n",
              "       4, 3, 1, 2, 2, 3, 1, 2, 3, 2, 2, 0, 3, 0, 3, 3, 3, 3, 2, 2, 2, 2,\n",
              "       2, 1, 0, 2, 4, 3, 2, 3, 3, 3, 2, 4, 3, 4, 1, 0, 1, 2, 0, 2, 2, 1,\n",
              "       3, 2, 3, 2, 4, 3, 4, 1, 2, 4, 4, 2, 2, 4, 4, 0, 4, 2, 2, 0, 1, 2,\n",
              "       2, 2, 4, 0, 2, 1, 2, 2, 3, 2, 1, 3, 3, 2, 0, 1, 3, 2, 1, 2, 2, 2,\n",
              "       3, 2, 3, 2, 3, 3, 0, 4, 1, 0, 1, 4, 2, 4, 1, 1, 0, 0, 2, 3, 0, 0,\n",
              "       2, 1, 2, 2, 2, 2, 0, 3, 3, 4, 2, 2, 3, 2, 3, 3, 2, 1, 2, 2, 4, 0,\n",
              "       3, 3, 3, 3, 4, 2, 3, 3, 2, 2, 2, 4, 1, 2, 2, 2, 2, 2, 2, 2, 2, 3,\n",
              "       3, 4, 0, 2, 2, 3, 3, 2, 2, 4, 3, 1, 2, 2, 3, 1, 1, 3, 3, 2, 3, 3,\n",
              "       1, 2, 3, 3, 3, 1, 1, 2, 2, 3, 0, 3, 2, 3, 2, 4, 4, 3, 3, 4, 2, 3,\n",
              "       3, 4, 4, 2, 1, 2, 0, 3, 3, 3, 2, 4, 2, 1, 3, 3, 0, 2, 2, 3, 3, 1,\n",
              "       4, 2, 2, 2, 2, 3, 2, 3, 2, 2, 2, 2, 1, 3, 3, 2, 2, 4, 2, 2, 3, 3,\n",
              "       2, 2, 3, 2, 0, 2, 2, 2, 2, 1, 0, 2, 2, 2, 3, 2, 2, 2, 2, 4, 1, 2,\n",
              "       2, 0, 2, 2, 2, 2, 2, 3, 2, 3, 4, 2, 2, 2, 2, 1, 4, 4, 3, 3, 4, 0,\n",
              "       2, 2, 2, 1, 4, 3, 4, 3, 0, 3, 3, 1, 4, 2, 2, 2, 2, 3, 3, 2, 3, 4,\n",
              "       0, 4, 2, 1, 2, 2, 2, 2, 4, 3, 2, 3, 2, 2, 4, 2, 3, 2, 4, 3, 2, 4,\n",
              "       1, 2, 1, 1, 2, 3, 3, 2, 0, 3, 2, 2, 4, 2, 2, 3, 1, 4, 2, 3, 0, 0,\n",
              "       0, 3, 4, 0, 2, 2, 3, 2, 1, 4, 1, 2, 3, 1, 3, 3, 2, 3, 3, 3, 0, 1,\n",
              "       4, 1, 2, 2, 2, 3, 3, 2, 2, 2, 2, 2, 3, 2, 2, 4, 4, 4, 2, 4, 1, 2,\n",
              "       2, 4, 2, 2, 3, 2, 3, 3, 3, 3, 3, 2, 2, 4, 2, 4, 0, 2, 3, 0, 1, 2,\n",
              "       3, 4, 2, 3, 3, 0, 4, 3, 1, 0, 1, 2, 1, 2, 4, 2, 2, 1, 4, 2, 2, 2,\n",
              "       4, 2, 2, 3, 0, 2, 3, 2, 2, 2, 3, 3, 3, 3, 3, 0, 2, 2, 2, 4, 2, 2,\n",
              "       2, 2, 2, 2, 2, 2, 2, 2, 2, 2, 2, 3, 4, 3, 3, 2, 4, 1, 2, 0, 2, 3,\n",
              "       4, 0, 2, 0, 0, 4, 4, 4, 2, 4, 4, 2, 2, 3, 2, 0, 3, 0, 3, 2, 2, 2,\n",
              "       2, 0, 2, 2, 3, 4, 4, 2, 3, 0, 4, 3, 3, 2, 2, 2, 1, 2])"
            ]
          },
          "metadata": {},
          "execution_count": 1036
        }
      ]
    },
    {
      "cell_type": "code",
      "source": [
        "accuracy_score(y_treino, previsoes_treino)"
      ],
      "metadata": {
        "colab": {
          "base_uri": "https://localhost:8080/"
        },
        "id": "STNWGCg2WUP9",
        "outputId": "5f9d489c-6333-4691-c31f-94b2707a042b"
      },
      "execution_count": null,
      "outputs": [
        {
          "output_type": "execute_result",
          "data": {
            "text/plain": [
              "0.8428571428571429"
            ]
          },
          "metadata": {},
          "execution_count": 1037
        }
      ]
    },
    {
      "cell_type": "code",
      "source": [
        "confusion_matrix(y_treino, previsoes_treino)"
      ],
      "metadata": {
        "colab": {
          "base_uri": "https://localhost:8080/"
        },
        "id": "iMkd0Wm-WWIH",
        "outputId": "d5d56f3b-a846-4840-8f48-601696fc7168"
      },
      "execution_count": null,
      "outputs": [
        {
          "output_type": "execute_result",
          "data": {
            "text/plain": [
              "array([[ 62,   0,   0,   0,   0],\n",
              "       [  0,  65,  61,   0,   0],\n",
              "       [  0,   0, 211,  18,   0],\n",
              "       [  0,   0,  31, 156,   0],\n",
              "       [  0,   0,   0,   0,  96]])"
            ]
          },
          "metadata": {},
          "execution_count": 1038
        }
      ]
    },
    {
      "cell_type": "markdown",
      "source": [
        "**Conclusão: o algoritmo de logistic regression teve**\n",
        "\n",
        "- Acurácia de treino: 79.3%\n",
        "- Acurácia de teste: 84%\n",
        "\n",
        "- parâmetros: random_state=1, max_iter=600, penalty=\"l2\", tol=0.0001, C=2,solver=\"liblinear\""
      ],
      "metadata": {
        "id": "QThyCYNiWchT"
      }
    }
  ]
}